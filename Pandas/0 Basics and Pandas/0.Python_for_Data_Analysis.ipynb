{
 "cells": [
  {
   "cell_type": "markdown",
   "metadata": {},
   "source": [
    "<!--Course_INFORMATION-->\n",
    "\n",
    "<img align=\"left\" style=\"padding-right:10px;\" src=\"../../figures/Atos_Logo_RGB.jpg\" width=\"100\" height=\"50\">\n",
    "*This course contains the introduction to Python and Pandas, and is part of the traineeship Data Science from Atos Data Science University*\n",
    "* \n"
   ]
  },
  {
   "cell_type": "markdown",
   "metadata": {},
   "source": [
    "<!--NAVIGATION-->\n",
    "< [Contents](Index.ipynb) | [Next](1_DataScience.ipynb) >"
   ]
  },
  {
   "cell_type": "markdown",
   "metadata": {},
   "source": [
    "# Tutorial content\n",
    "\n",
    "0. Intro to Notebooks and Markup\n",
    "\n",
    "1. Overview of Python Libraries for Data Scientists\n",
    "\n",
    "2. Selecting and filtering data; Data manipulation\n",
    "\n"
   ]
  },
  {
   "cell_type": "markdown",
   "metadata": {},
   "source": [
    "# 0. Intro to Notebooks and Markup"
   ]
  },
  {
   "cell_type": "markdown",
   "metadata": {},
   "source": [
    "## Cells in Jupyter notebook are of three types − Code, Markdown and Raw. <br>\n",
    "\n",
    "### Code Cells<br>\n",
    "Contents in this cell are treated as statements in a programming language of current kernel. Default kernel is Python. So, we can write Python statements in a code cell. When such cell is run, its result is displayed in an output cell. The output may be text, image, matplotlib plots or HTML tables. Code cells have rich text capability.<br>\n",
    "\n",
    "### Markdown Cells<br>\n",
    "These cells contain text formatted using markdown language. All kinds of formatting features are available like making text bold and italic, displaying ordered or unordered list, rendering tabular contents etc. Markdown cells are especially useful to provide documentation to the computational process of the notebook.<br>\n",
    "\n",
    "### Raw Cells<br>\n",
    "Contents in raw cells are not evaluated by notebook kernel. When passed through nbconvert, they will be rendered as desired. If you type LatEx in a raw cell, rendering will happen after nbconvert is applied.<br>\n",
    "\n",
    "<img align=\"left\" style=\"padding-right:10px;\" src=\"../../figures/raw_cells.jpg\">\n",
    "\n",
    "\n",
    "\n",
    "\n",
    "\n"
   ]
  },
  {
   "cell_type": "markdown",
   "metadata": {},
   "source": [
    "# Some remarks on the Markdown:"
   ]
  },
  {
   "cell_type": "markdown",
   "metadata": {},
   "source": [
    "LaTeX equations\n",
    "Courtesy of MathJax, you can include mathematical expressions both inline: $e^{i\\pi} + 1 = 0$ and displayed:\n",
    "$$e^x=\\sum_{i=0}^\\infty \\frac{1}{i!}x^i$$"
   ]
  },
  {
   "cell_type": "markdown",
   "metadata": {},
   "source": [
    "Inline expressions can be added by surrounding the latex code with $:\n"
   ]
  },
  {
   "cell_type": "markdown",
   "metadata": {},
   "source": [
    "\n",
    "$e^{i\\pi} + 1 = 0$"
   ]
  },
  {
   "cell_type": "markdown",
   "metadata": {},
   "source": [
    "Expressions on their own line are surrounded by $$:"
   ]
  },
  {
   "cell_type": "markdown",
   "metadata": {},
   "source": [
    "$$e^x=\\sum_{i=0}^\\infty \\frac{1}{i!}x^i$$"
   ]
  },
  {
   "cell_type": "code",
   "execution_count": null,
   "metadata": {},
   "outputs": [],
   "source": []
  },
  {
   "cell_type": "markdown",
   "metadata": {},
   "source": [
    "## Editing and Running the code"
   ]
  },
  {
   "cell_type": "markdown",
   "metadata": {},
   "source": [
    "Check page <br>\n",
    "\n",
    "https://www.tutorialspoint.com/jupyter/jupyter_notebook_editing.htm\n"
   ]
  },
  {
   "cell_type": "markdown",
   "metadata": {},
   "source": [
    "# 1. Overview of Python Libraries for Data Scientists"
   ]
  },
  {
   "cell_type": "code",
   "execution_count": null,
   "metadata": {},
   "outputs": [],
   "source": [
    "#Import Python Libraries\n",
    "import numpy as np\n",
    "import scipy as sp\n",
    "import pandas as pd\n",
    "import matplotlib.pyplot as plt\n",
    "import seaborn as sns"
   ]
  },
  {
   "cell_type": "markdown",
   "metadata": {},
   "source": [
    "\n",
    "\n",
    "Many popular Python toolboxes/libraries: <br>\n",
    "NumPy<br>\n",
    "SciPy<br>\n",
    "Pandas<br>\n",
    "SciKit-Learn<br>\n",
    "<br>\n",
    "Visualization libraries<br>\n",
    "matplotlib<br>\n",
    "Seaborn<br>\n",
    "\n",
    "And MANY more......\n"
   ]
  },
  {
   "cell_type": "markdown",
   "metadata": {},
   "source": [
    "### NumPy:\n",
    "- introduces objects for multidimensional arrays and matrices, as well as functions that allow to easily perform advanced mathematical and statistical operations on those objects <br>\n",
    "\n",
    "- provides vectorization of mathematical operations on arrays and matrices which significantly improves the performance<br>\n",
    "\n",
    "- many other python libraries are built on NumPy<br>\n",
    "\n",
    "Link: http://www.numpy.org/\n"
   ]
  },
  {
   "cell_type": "markdown",
   "metadata": {},
   "source": [
    "## SciPy:\n",
    "- collection of algorithms for linear algebra, differential equations, numerical integration, optimization, statistics and more\n",
    "<br>\n",
    "- part of SciPy Stack<br>\n",
    "\n",
    "- built on NumPy<br>\n",
    "\n",
    "Ref:: https://www.scipy.org/scipylib/"
   ]
  },
  {
   "cell_type": "markdown",
   "metadata": {},
   "source": [
    "## Pandas:\n",
    "- adds data structures and tools designed to work with table-like data (similar to Series and Data Frames in R)<br>\n",
    "\n",
    "- provides tools for data manipulation: reshaping, merging, sorting, slicing, aggregation etc.<br>\n",
    "\n",
    "- allows handling missing data<br>\n",
    "\n",
    "Link: http://pandas.pydata.org/\n"
   ]
  },
  {
   "cell_type": "markdown",
   "metadata": {},
   "source": [
    "## SciKit-Learn:\n",
    "- provides machine learning algorithms: classification, regression, clustering, model validation etc.<br>\n",
    "\n",
    "- built on NumPy, SciPy and matplotlib<br>\n",
    "\n",
    "Link: http://scikit-learn.org/\n",
    "\n"
   ]
  },
  {
   "cell_type": "markdown",
   "metadata": {},
   "source": [
    "## matplotlib:\n",
    "- python 2D plotting library which produces publication quality figures in a variety of hardcopy formats <br>\n",
    "\n",
    "- a set of functionalities similar to those of MATLAB<br>\n",
    "\n",
    "- line plots, scatter plots, barcharts, histograms, pie charts etc.<br>\n",
    "\n",
    "- relatively low-level; some effort needed to create advanced visualization<br>\n",
    "\n",
    "Link: https://matplotlib.org/\n"
   ]
  },
  {
   "cell_type": "markdown",
   "metadata": {},
   "source": [
    "## Seaborn:\n",
    "- based on matplotlib <br>\n",
    "\n",
    "- provides high level interface for drawing attractive statistical graphics<br>\n",
    "\n",
    "- Similar (in style) to the popular ggplot2 library in R<br>\n",
    "Link: https://seaborn.pydata.org/\n",
    "\n"
   ]
  },
  {
   "cell_type": "markdown",
   "metadata": {},
   "source": [
    "# 2. Selecting and filtering data; Data manipulation\n",
    "\n",
    "## Use tutorial notebook\n",
    "1 DataScience.ipynb, or simple click on NEXT below\n"
   ]
  },
  {
   "cell_type": "markdown",
   "metadata": {},
   "source": [
    "<!--NAVIGATION-->\n",
    "< [Contents](Index.ipynb) | [Next](1_DataScience.ipynb) >"
   ]
  },
  {
   "cell_type": "code",
   "execution_count": null,
   "metadata": {},
   "outputs": [],
   "source": [
    "a = [1,2,3]\n",
    "b = [\"this\", \"is\", \"a\", \"list\"]"
   ]
  },
  {
   "cell_type": "code",
   "execution_count": null,
   "metadata": {},
   "outputs": [],
   "source": [
    "a + b"
   ]
  }
 ],
 "metadata": {
  "kernelspec": {
   "display_name": "Python 3",
   "language": "python",
   "name": "python3"
  },
  "language_info": {
   "codemirror_mode": {
    "name": "ipython",
    "version": 3
   },
   "file_extension": ".py",
   "mimetype": "text/x-python",
   "name": "python",
   "nbconvert_exporter": "python",
   "pygments_lexer": "ipython3",
   "version": "3.7.3"
  }
 },
 "nbformat": 4,
 "nbformat_minor": 4
}
