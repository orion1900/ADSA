{
 "cells": [
  {
   "cell_type": "markdown",
   "metadata": {
    "deletable": true,
    "editable": true
   },
   "source": [
    "<!--Course_INFORMATION-->\n",
    "\n",
    "<img align=\"left\" style=\"padding-right:10px;\" src=\"../../figures/Atos_Logo_RGB.jpg\" width=\"100\" height=\"50\">\n",
    "*This course contains the introduction to Python and Pandas, and is part of the traineeship Data Science from Atos Data Science University* \n"
   ]
  },
  {
   "cell_type": "markdown",
   "metadata": {
    "deletable": true,
    "editable": true
   },
   "source": [
    "# Python Deep Dive"
   ]
  },
  {
   "cell_type": "markdown",
   "metadata": {
    "deletable": true,
    "editable": true
   },
   "source": [
    "## Table of Contents\n",
    "\n",
    "\n",
    "### [1. Python for Data Analysis](0. Python for Data Analysis.ipynb)\n",
    "- [Overview and intro to Pandas](1.DataScience.ipynb)\n",
    "- [Working with data: groupBy](2.Groupby.ipynb)\n",
    "- [Joining Data](3.Merging_Joining_and_Concatenating.ipynb)\n",
    "- [Slicing](4.Data_structures_and_slicing.ipynb)\n",
    "- [Reading from a file](5.Reading_from_a_CSV.ipynb)\n",
    "\n"
   ]
  },
  {
   "cell_type": "code",
   "execution_count": null,
   "metadata": {
    "deletable": true,
    "editable": true
   },
   "outputs": [],
   "source": []
  }
 ],
 "metadata": {
  "anaconda-cloud": {},
  "kernelspec": {
   "display_name": "Python 3",
   "language": "python",
   "name": "python3"
  },
  "language_info": {
   "codemirror_mode": {
    "name": "ipython",
    "version": 3
   },
   "file_extension": ".py",
   "mimetype": "text/x-python",
   "name": "python",
   "nbconvert_exporter": "python",
   "pygments_lexer": "ipython3",
   "version": "3.7.3"
  }
 },
 "nbformat": 4,
 "nbformat_minor": 4
}
