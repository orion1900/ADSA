{
 "cells": [
  {
   "cell_type": "code",
   "execution_count": 1,
   "metadata": {},
   "outputs": [],
   "source": [
    "import pandas as pd"
   ]
  },
  {
   "cell_type": "code",
   "execution_count": 8,
   "metadata": {},
   "outputs": [],
   "source": [
    "# reading the data\n",
    "ruleset = pd.read_excel('Example_firewall_rules.xlsx', sheetname=['rules'])\n",
    "# print(ruleset)\n",
    "ruleset = ruleset['rules'] # get df"
   ]
  },
  {
   "cell_type": "code",
   "execution_count": 9,
   "metadata": {},
   "outputs": [
    {
     "data": {
      "text/html": [
       "<div>\n",
       "<style scoped>\n",
       "    .dataframe tbody tr th:only-of-type {\n",
       "        vertical-align: middle;\n",
       "    }\n",
       "\n",
       "    .dataframe tbody tr th {\n",
       "        vertical-align: top;\n",
       "    }\n",
       "\n",
       "    .dataframe thead th {\n",
       "        text-align: right;\n",
       "    }\n",
       "</style>\n",
       "<table border=\"1\" class=\"dataframe\">\n",
       "  <thead>\n",
       "    <tr style=\"text-align: right;\">\n",
       "      <th></th>\n",
       "      <th>Unnamed: 0</th>\n",
       "      <th>FW</th>\n",
       "      <th>#</th>\n",
       "      <th>Source</th>\n",
       "      <th>Destination</th>\n",
       "      <th>Service</th>\n",
       "      <th>Action</th>\n",
       "      <th>Track</th>\n",
       "      <th>Install On</th>\n",
       "      <th>Time</th>\n",
       "      <th>Comment</th>\n",
       "    </tr>\n",
       "  </thead>\n",
       "  <tbody>\n",
       "    <tr>\n",
       "      <th>0</th>\n",
       "      <td>NaN</td>\n",
       "      <td>FW-1-2</td>\n",
       "      <td>1.0</td>\n",
       "      <td>global-Mgt</td>\n",
       "      <td>Any</td>\n",
       "      <td>administration-ports</td>\n",
       "      <td>accept</td>\n",
       "      <td>None</td>\n",
       "      <td>Gateways</td>\n",
       "      <td>Any</td>\n",
       "      <td>NaN</td>\n",
       "    </tr>\n",
       "    <tr>\n",
       "      <th>1</th>\n",
       "      <td>NaN</td>\n",
       "      <td>FW-1-2</td>\n",
       "      <td>NaN</td>\n",
       "      <td>NaN</td>\n",
       "      <td>NaN</td>\n",
       "      <td>NaN</td>\n",
       "      <td>NaN</td>\n",
       "      <td>NaN</td>\n",
       "      <td>NaN</td>\n",
       "      <td>NaN</td>\n",
       "      <td>NaN</td>\n",
       "    </tr>\n",
       "    <tr>\n",
       "      <th>2</th>\n",
       "      <td>NaN</td>\n",
       "      <td>FW-1-2</td>\n",
       "      <td>2.0</td>\n",
       "      <td>gobal-Finance</td>\n",
       "      <td>Any</td>\n",
       "      <td>accounting-ports</td>\n",
       "      <td>accept</td>\n",
       "      <td>Log</td>\n",
       "      <td>Gateways</td>\n",
       "      <td>Any</td>\n",
       "      <td>Financial operations and deployment;access via...</td>\n",
       "    </tr>\n",
       "    <tr>\n",
       "      <th>3</th>\n",
       "      <td>NaN</td>\n",
       "      <td>FW-1-2</td>\n",
       "      <td>NaN</td>\n",
       "      <td>NaN</td>\n",
       "      <td>NaN</td>\n",
       "      <td>NaN</td>\n",
       "      <td>NaN</td>\n",
       "      <td>NaN</td>\n",
       "      <td>NaN</td>\n",
       "      <td>NaN</td>\n",
       "      <td>NaN</td>\n",
       "    </tr>\n",
       "    <tr>\n",
       "      <th>4</th>\n",
       "      <td>NaN</td>\n",
       "      <td>FW-1-2</td>\n",
       "      <td>3.0</td>\n",
       "      <td>global-NationX</td>\n",
       "      <td>Amy</td>\n",
       "      <td>block-NationX</td>\n",
       "      <td>deny</td>\n",
       "      <td>Log</td>\n",
       "      <td>Gateways</td>\n",
       "      <td>Any</td>\n",
       "      <td>deny access of nationX to our systems</td>\n",
       "    </tr>\n",
       "  </tbody>\n",
       "</table>\n",
       "</div>"
      ],
      "text/plain": [
       "   Unnamed: 0      FW    #          Source Destination               Service  \\\n",
       "0         NaN  FW-1-2  1.0      global-Mgt         Any  administration-ports   \n",
       "1         NaN  FW-1-2  NaN             NaN         NaN                   NaN   \n",
       "2         NaN  FW-1-2  2.0   gobal-Finance         Any      accounting-ports   \n",
       "3         NaN  FW-1-2  NaN             NaN         NaN                   NaN   \n",
       "4         NaN  FW-1-2  3.0  global-NationX         Amy         block-NationX   \n",
       "\n",
       "   Action Track Install On Time  \\\n",
       "0  accept  None   Gateways  Any   \n",
       "1     NaN   NaN        NaN  NaN   \n",
       "2  accept   Log   Gateways  Any   \n",
       "3     NaN   NaN        NaN  NaN   \n",
       "4    deny   Log   Gateways  Any   \n",
       "\n",
       "                                             Comment  \n",
       "0                                                NaN  \n",
       "1                                                NaN  \n",
       "2  Financial operations and deployment;access via...  \n",
       "3                                                NaN  \n",
       "4              deny access of nationX to our systems  "
      ]
     },
     "execution_count": 9,
     "metadata": {},
     "output_type": "execute_result"
    }
   ],
   "source": [
    "ruleset.head()"
   ]
  },
  {
   "cell_type": "code",
   "execution_count": null,
   "metadata": {},
   "outputs": [],
   "source": [
    "# <do the same for hostgroup objects>"
   ]
  },
  {
   "cell_type": "code",
   "execution_count": 32,
   "metadata": {},
   "outputs": [
    {
     "data": {
      "text/plain": [
       "Int64Index([0, 2, 4, 6, 9, 12, 15, 19, 23, 31, 34], dtype='int64')"
      ]
     },
     "execution_count": 32,
     "metadata": {},
     "output_type": "execute_result"
    }
   ],
   "source": [
    "# identify rules, each new rules is indicated by a nr.\n",
    "ruleset['#'].dropna().index\n"
   ]
  },
  {
   "cell_type": "code",
   "execution_count": null,
   "metadata": {},
   "outputs": [],
   "source": [
    "# loop over the rows of the dataframe, collecting data of Source, Destination, Service and Action \n",
    "# between unique row identifiers and store them in a single row of a new dataframe\n",
    "\n",
    "# Next: write additional logic to exclude 'noise' in the Source column (Deployment and TheRealBaddie arent't part\n",
    "# of any rule). You cannot drop them based on name, real life firewall files are over 2000 rules"
   ]
  },
  {
   "cell_type": "code",
   "execution_count": null,
   "metadata": {},
   "outputs": [],
   "source": []
  },
  {
   "cell_type": "code",
   "execution_count": null,
   "metadata": {},
   "outputs": [],
   "source": []
  },
  {
   "cell_type": "code",
   "execution_count": null,
   "metadata": {},
   "outputs": [],
   "source": []
  },
  {
   "cell_type": "code",
   "execution_count": null,
   "metadata": {},
   "outputs": [],
   "source": []
  },
  {
   "cell_type": "code",
   "execution_count": null,
   "metadata": {},
   "outputs": [],
   "source": []
  },
  {
   "cell_type": "code",
   "execution_count": null,
   "metadata": {},
   "outputs": [],
   "source": []
  },
  {
   "cell_type": "code",
   "execution_count": null,
   "metadata": {},
   "outputs": [],
   "source": []
  },
  {
   "cell_type": "code",
   "execution_count": null,
   "metadata": {},
   "outputs": [],
   "source": []
  },
  {
   "cell_type": "code",
   "execution_count": 31,
   "metadata": {},
   "outputs": [],
   "source": [
    "# Below you will find the code to wrangle the original ruleset (real firewall file, \n",
    "# not guaranteed to work when copy-pasted)"
   ]
  },
  {
   "cell_type": "code",
   "execution_count": null,
   "metadata": {},
   "outputs": [],
   "source": [
    "rule_idx = ruleset['#'].dropna().index\n",
    "\n",
    "def wrangle_df(df_in, rule_idx):\n",
    "    df_out = pd.DataFrame(columns=df_in.columns)\n",
    "    for idx in rule_idx:\n",
    "        row = df_in.iloc[idx].copy()\n",
    "        source = row['Source']\n",
    "        dest = row['Destination']\n",
    "        service = row['Service']\n",
    "        same_rule = True\n",
    "        src_was_nan = False\n",
    "        counter = idx + 1\n",
    "        while same_rule:\n",
    "            try:\n",
    "                rule = df_in.iloc[counter].copy()\n",
    "            except IndexError:  # end of file\n",
    "                same_rule = False\n",
    "                continue\n",
    "            rule_src = rule['Source']\n",
    "            rule_dst = rule['Destination']\n",
    "            rule_srvc = rule['Service']\n",
    "            rule_nr = rule['#']\n",
    "#             print(rule_nr)\n",
    "            #             if (rule_src == 'nan') & (rule_dst == 'nan'):  # end of rule when both are NA\n",
    "            if not rule_nr == 'nan':\n",
    "                same_rule = False\n",
    "                if type(source) is list:\n",
    "                    row['Source'] = ','.join(source)\n",
    "                if type(dest) is list:\n",
    "                    row['Destination'] = ','.join(dest)\n",
    "#                 if not (rule_srvc == 'nan'):  # check if service has one more entry before setting value\n",
    "                if type(service) is list:\n",
    "                    row['Service'] = ','.join(service)\n",
    "                continue\n",
    "            else:\n",
    "                if not (rule_src == 'nan'): # if value not nan, append\n",
    "                    if src_was_nan:\n",
    "                        pass\n",
    "                    elif type(source) is not list:\n",
    "                        source = [source]\n",
    "                        source.append(rule_src)\n",
    "                    else: source.append(rule_src)\n",
    "                else: # source can be filled with meta data before new rule, we don't want this info\n",
    "                    src_was_nan = True\n",
    "                if not (rule_dst == 'nan'):\n",
    "                    if type(dest) is not list:\n",
    "                        dest = [dest]\n",
    "                    dest.append(rule_dst)\n",
    "                if not (rule_srvc == 'nan'):\n",
    "                    if type(service) is not list:\n",
    "                        service = [service]\n",
    "                    service.append(rule_srvc)\n",
    "            counter += 1\n",
    "        # add row to new df\n",
    "        df_out = df_out.append(row)\n",
    "    df_out.reset_index(drop=True, inplace=True)\n",
    "    return df_out"
   ]
  },
  {
   "cell_type": "code",
   "execution_count": null,
   "metadata": {},
   "outputs": [],
   "source": [
    "# clean_rules = wrangle_df(ruleset, rule_idx)"
   ]
  }
 ],
 "metadata": {
  "kernelspec": {
   "display_name": "Python 3",
   "language": "python",
   "name": "python3"
  },
  "language_info": {
   "codemirror_mode": {
    "name": "ipython",
    "version": 3
   },
   "file_extension": ".py",
   "mimetype": "text/x-python",
   "name": "python",
   "nbconvert_exporter": "python",
   "pygments_lexer": "ipython3",
   "version": "3.7.3"
  }
 },
 "nbformat": 4,
 "nbformat_minor": 2
}
